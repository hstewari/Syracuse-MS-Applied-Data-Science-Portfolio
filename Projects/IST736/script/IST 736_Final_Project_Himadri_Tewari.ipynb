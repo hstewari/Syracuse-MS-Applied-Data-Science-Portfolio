{
 "cells": [
  {
   "cell_type": "code",
   "execution_count": 1,
   "metadata": {},
   "outputs": [],
   "source": [
    "RAW_DATA_PATH = 'data/employee_reviews.csv'"
   ]
  },
  {
   "cell_type": "code",
   "execution_count": 2,
   "metadata": {},
   "outputs": [],
   "source": [
    "import random\n",
    "import numpy as np\n",
    "import pandas as pd\n",
    "import seaborn as sns\n",
    "from collections import Counter\n",
    "from matplotlib import pyplot as plt\n",
    "from wordcloud import WordCloud\n",
    "from nltk.corpus import stopwords\n",
    "from nltk.stem.porter import PorterStemmer\n",
    "from nltk.stem.wordnet import WordNetLemmatizer\n",
    "from nltk.tokenize import RegexpTokenizer"
   ]
  },
  {
   "cell_type": "code",
   "execution_count": 4,
   "metadata": {},
   "outputs": [],
   "source": [
    "raw_data_df = pd.read_csv(RAW_DATA_PATH, engine='python', encoding='utf-8', index_col=0)"
   ]
  },
  {
   "cell_type": "code",
   "execution_count": 5,
   "metadata": {},
   "outputs": [
    {
     "name": "stdout",
     "output_type": "stream",
     "text": [
      "<class 'pandas.core.frame.DataFrame'>\n",
      "Int64Index: 67529 entries, 1 to 67529\n",
      "Data columns (total 16 columns):\n",
      "company                       67529 non-null object\n",
      "location                      67529 non-null object\n",
      "dates                         67529 non-null object\n",
      "job-title                     67529 non-null object\n",
      "summary                       67409 non-null object\n",
      "pros                          67529 non-null object\n",
      "cons                          67529 non-null object\n",
      "advice-to-mgmt                67232 non-null object\n",
      "overall-ratings               67529 non-null float64\n",
      "work-balance-stars            67529 non-null object\n",
      "culture-values-stars          67529 non-null object\n",
      "carrer-opportunities-stars    67529 non-null object\n",
      "comp-benefit-stars            67529 non-null object\n",
      "senior-mangemnet-stars        67529 non-null object\n",
      "helpful-count                 67529 non-null int64\n",
      "link                          67529 non-null object\n",
      "dtypes: float64(1), int64(1), object(14)\n",
      "memory usage: 8.8+ MB\n"
     ]
    }
   ],
   "source": [
    "raw_data_df.info()"
   ]
  },
  {
   "cell_type": "code",
   "execution_count": 6,
   "metadata": {},
   "outputs": [
    {
     "data": {
      "text/html": [
       "<div>\n",
       "<style scoped>\n",
       "    .dataframe tbody tr th:only-of-type {\n",
       "        vertical-align: middle;\n",
       "    }\n",
       "\n",
       "    .dataframe tbody tr th {\n",
       "        vertical-align: top;\n",
       "    }\n",
       "\n",
       "    .dataframe thead th {\n",
       "        text-align: right;\n",
       "    }\n",
       "</style>\n",
       "<table border=\"1\" class=\"dataframe\">\n",
       "  <thead>\n",
       "    <tr style=\"text-align: right;\">\n",
       "      <th></th>\n",
       "      <th>company</th>\n",
       "      <th>location</th>\n",
       "      <th>dates</th>\n",
       "      <th>job-title</th>\n",
       "      <th>summary</th>\n",
       "      <th>pros</th>\n",
       "      <th>cons</th>\n",
       "      <th>advice-to-mgmt</th>\n",
       "      <th>overall-ratings</th>\n",
       "      <th>work-balance-stars</th>\n",
       "      <th>culture-values-stars</th>\n",
       "      <th>carrer-opportunities-stars</th>\n",
       "      <th>comp-benefit-stars</th>\n",
       "      <th>senior-mangemnet-stars</th>\n",
       "      <th>helpful-count</th>\n",
       "      <th>link</th>\n",
       "    </tr>\n",
       "  </thead>\n",
       "  <tbody>\n",
       "    <tr>\n",
       "      <th>1</th>\n",
       "      <td>google</td>\n",
       "      <td>none</td>\n",
       "      <td>Dec 11, 2018</td>\n",
       "      <td>Current Employee - Anonymous Employee</td>\n",
       "      <td>Best Company to work for</td>\n",
       "      <td>People are smart and friendly</td>\n",
       "      <td>Bureaucracy is slowing things down</td>\n",
       "      <td>none</td>\n",
       "      <td>5.0</td>\n",
       "      <td>4.0</td>\n",
       "      <td>5.0</td>\n",
       "      <td>5.0</td>\n",
       "      <td>4.0</td>\n",
       "      <td>5.0</td>\n",
       "      <td>0</td>\n",
       "      <td>https://www.glassdoor.com/Reviews/Google-Revie...</td>\n",
       "    </tr>\n",
       "    <tr>\n",
       "      <th>2</th>\n",
       "      <td>google</td>\n",
       "      <td>Mountain View, CA</td>\n",
       "      <td>Jun 21, 2013</td>\n",
       "      <td>Former Employee - Program Manager</td>\n",
       "      <td>Moving at the speed of light, burn out is inev...</td>\n",
       "      <td>1) Food, food, food. 15+ cafes on main campus ...</td>\n",
       "      <td>1) Work/life balance. What balance? All those ...</td>\n",
       "      <td>1) Don't dismiss emotional intelligence and ad...</td>\n",
       "      <td>4.0</td>\n",
       "      <td>2.0</td>\n",
       "      <td>3.0</td>\n",
       "      <td>3.0</td>\n",
       "      <td>5.0</td>\n",
       "      <td>3.0</td>\n",
       "      <td>2094</td>\n",
       "      <td>https://www.glassdoor.com/Reviews/Google-Revie...</td>\n",
       "    </tr>\n",
       "    <tr>\n",
       "      <th>3</th>\n",
       "      <td>google</td>\n",
       "      <td>New York, NY</td>\n",
       "      <td>May 10, 2014</td>\n",
       "      <td>Current Employee - Software Engineer III</td>\n",
       "      <td>Great balance between big-company security and...</td>\n",
       "      <td>* If you're a software engineer, you're among ...</td>\n",
       "      <td>* It *is* becoming larger, and with it comes g...</td>\n",
       "      <td>Keep the focus on the user. Everything else wi...</td>\n",
       "      <td>5.0</td>\n",
       "      <td>5.0</td>\n",
       "      <td>4.0</td>\n",
       "      <td>5.0</td>\n",
       "      <td>5.0</td>\n",
       "      <td>4.0</td>\n",
       "      <td>949</td>\n",
       "      <td>https://www.glassdoor.com/Reviews/Google-Revie...</td>\n",
       "    </tr>\n",
       "    <tr>\n",
       "      <th>4</th>\n",
       "      <td>google</td>\n",
       "      <td>Mountain View, CA</td>\n",
       "      <td>Feb 8, 2015</td>\n",
       "      <td>Current Employee - Anonymous Employee</td>\n",
       "      <td>The best place I've worked and also the most d...</td>\n",
       "      <td>You can't find a more well-regarded company th...</td>\n",
       "      <td>I live in SF so the commute can take between 1...</td>\n",
       "      <td>Keep on NOT micromanaging - that is a huge ben...</td>\n",
       "      <td>5.0</td>\n",
       "      <td>2.0</td>\n",
       "      <td>5.0</td>\n",
       "      <td>5.0</td>\n",
       "      <td>4.0</td>\n",
       "      <td>5.0</td>\n",
       "      <td>498</td>\n",
       "      <td>https://www.glassdoor.com/Reviews/Google-Revie...</td>\n",
       "    </tr>\n",
       "    <tr>\n",
       "      <th>5</th>\n",
       "      <td>google</td>\n",
       "      <td>Los Angeles, CA</td>\n",
       "      <td>Jul 19, 2018</td>\n",
       "      <td>Former Employee - Software Engineer</td>\n",
       "      <td>Unique, one of a kind dream job</td>\n",
       "      <td>Google is a world of its own. At every other c...</td>\n",
       "      <td>If you don't work in MTV (HQ), you will be giv...</td>\n",
       "      <td>Promote managers into management for their man...</td>\n",
       "      <td>5.0</td>\n",
       "      <td>5.0</td>\n",
       "      <td>5.0</td>\n",
       "      <td>5.0</td>\n",
       "      <td>5.0</td>\n",
       "      <td>5.0</td>\n",
       "      <td>49</td>\n",
       "      <td>https://www.glassdoor.com/Reviews/Google-Revie...</td>\n",
       "    </tr>\n",
       "  </tbody>\n",
       "</table>\n",
       "</div>"
      ],
      "text/plain": [
       "  company           location          dates  \\\n",
       "1  google               none   Dec 11, 2018   \n",
       "2  google  Mountain View, CA   Jun 21, 2013   \n",
       "3  google       New York, NY   May 10, 2014   \n",
       "4  google  Mountain View, CA    Feb 8, 2015   \n",
       "5  google    Los Angeles, CA   Jul 19, 2018   \n",
       "\n",
       "                                  job-title  \\\n",
       "1     Current Employee - Anonymous Employee   \n",
       "2         Former Employee - Program Manager   \n",
       "3  Current Employee - Software Engineer III   \n",
       "4     Current Employee - Anonymous Employee   \n",
       "5       Former Employee - Software Engineer   \n",
       "\n",
       "                                             summary  \\\n",
       "1                           Best Company to work for   \n",
       "2  Moving at the speed of light, burn out is inev...   \n",
       "3  Great balance between big-company security and...   \n",
       "4  The best place I've worked and also the most d...   \n",
       "5                    Unique, one of a kind dream job   \n",
       "\n",
       "                                                pros  \\\n",
       "1                      People are smart and friendly   \n",
       "2  1) Food, food, food. 15+ cafes on main campus ...   \n",
       "3  * If you're a software engineer, you're among ...   \n",
       "4  You can't find a more well-regarded company th...   \n",
       "5  Google is a world of its own. At every other c...   \n",
       "\n",
       "                                                cons  \\\n",
       "1                 Bureaucracy is slowing things down   \n",
       "2  1) Work/life balance. What balance? All those ...   \n",
       "3  * It *is* becoming larger, and with it comes g...   \n",
       "4  I live in SF so the commute can take between 1...   \n",
       "5  If you don't work in MTV (HQ), you will be giv...   \n",
       "\n",
       "                                      advice-to-mgmt  overall-ratings  \\\n",
       "1                                               none              5.0   \n",
       "2  1) Don't dismiss emotional intelligence and ad...              4.0   \n",
       "3  Keep the focus on the user. Everything else wi...              5.0   \n",
       "4  Keep on NOT micromanaging - that is a huge ben...              5.0   \n",
       "5  Promote managers into management for their man...              5.0   \n",
       "\n",
       "  work-balance-stars culture-values-stars carrer-opportunities-stars  \\\n",
       "1                4.0                  5.0                        5.0   \n",
       "2                2.0                  3.0                        3.0   \n",
       "3                5.0                  4.0                        5.0   \n",
       "4                2.0                  5.0                        5.0   \n",
       "5                5.0                  5.0                        5.0   \n",
       "\n",
       "  comp-benefit-stars senior-mangemnet-stars  helpful-count  \\\n",
       "1                4.0                    5.0              0   \n",
       "2                5.0                    3.0           2094   \n",
       "3                5.0                    4.0            949   \n",
       "4                4.0                    5.0            498   \n",
       "5                5.0                    5.0             49   \n",
       "\n",
       "                                                link  \n",
       "1  https://www.glassdoor.com/Reviews/Google-Revie...  \n",
       "2  https://www.glassdoor.com/Reviews/Google-Revie...  \n",
       "3  https://www.glassdoor.com/Reviews/Google-Revie...  \n",
       "4  https://www.glassdoor.com/Reviews/Google-Revie...  \n",
       "5  https://www.glassdoor.com/Reviews/Google-Revie...  "
      ]
     },
     "execution_count": 6,
     "metadata": {},
     "output_type": "execute_result"
    }
   ],
   "source": [
    "raw_data_df.head()"
   ]
  },
  {
   "cell_type": "code",
   "execution_count": 7,
   "metadata": {},
   "outputs": [
    {
     "name": "stdout",
     "output_type": "stream",
     "text": [
      "<class 'pandas.core.frame.DataFrame'>\n",
      "Int64Index: 67529 entries, 1 to 67529\n",
      "Data columns (total 16 columns):\n",
      "company                       67529 non-null object\n",
      "location                      67529 non-null object\n",
      "dates                         67529 non-null object\n",
      "job-title                     67529 non-null object\n",
      "summary                       67409 non-null object\n",
      "pros                          67529 non-null object\n",
      "cons                          67529 non-null object\n",
      "advice-to-mgmt                67232 non-null object\n",
      "overall-ratings               67529 non-null float64\n",
      "work-balance-stars            67529 non-null object\n",
      "culture-values-stars          67529 non-null object\n",
      "carrer-opportunities-stars    67529 non-null object\n",
      "comp-benefit-stars            67529 non-null object\n",
      "senior-mangemnet-stars        67529 non-null object\n",
      "helpful-count                 67529 non-null int64\n",
      "link                          67529 non-null object\n",
      "dtypes: float64(1), int64(1), object(14)\n",
      "memory usage: 8.8+ MB\n"
     ]
    }
   ],
   "source": [
    "# remove duplicate\n",
    "raw_data_df = raw_data_df.drop_duplicates()\n",
    "raw_data_df.info()"
   ]
  },
  {
   "cell_type": "code",
   "execution_count": 8,
   "metadata": {},
   "outputs": [
    {
     "name": "stdout",
     "output_type": "stream",
     "text": [
      "<class 'pandas.core.frame.DataFrame'>\n",
      "Int64Index: 67122 entries, 1 to 67529\n",
      "Data columns (total 16 columns):\n",
      "company                       67122 non-null object\n",
      "location                      67122 non-null object\n",
      "dates                         67122 non-null object\n",
      "job-title                     67122 non-null object\n",
      "summary                       67122 non-null object\n",
      "pros                          67122 non-null object\n",
      "cons                          67122 non-null object\n",
      "advice-to-mgmt                67122 non-null object\n",
      "overall-ratings               67122 non-null float64\n",
      "work-balance-stars            67122 non-null object\n",
      "culture-values-stars          67122 non-null object\n",
      "carrer-opportunities-stars    67122 non-null object\n",
      "comp-benefit-stars            67122 non-null object\n",
      "senior-mangemnet-stars        67122 non-null object\n",
      "helpful-count                 67122 non-null int64\n",
      "link                          67122 non-null object\n",
      "dtypes: float64(1), int64(1), object(14)\n",
      "memory usage: 8.7+ MB\n"
     ]
    }
   ],
   "source": [
    "# remove none\n",
    "raw_data_df = raw_data_df.dropna()\n",
    "raw_data_df.info()"
   ]
  },
  {
   "cell_type": "code",
   "execution_count": 9,
   "metadata": {},
   "outputs": [],
   "source": [
    "raw_data_df['year'] = pd.to_datetime(raw_data_df['dates'], errors='coerce').dt.year"
   ]
  },
  {
   "cell_type": "code",
   "execution_count": 10,
   "metadata": {},
   "outputs": [
    {
     "name": "stdout",
     "output_type": "stream",
     "text": [
      "6\n",
      "[('amazon', 26283), ('microsoft', 17830), ('apple', 12858), ('google', 7775), ('facebook', 1578), ('netflix', 798)]\n"
     ]
    }
   ],
   "source": [
    "# company analysis\n",
    "comp_counter = Counter()\n",
    "comp_counter.update(raw_data_df['company'])\n",
    "print(len(comp_counter))\n",
    "print(comp_counter.most_common())"
   ]
  },
  {
   "cell_type": "code",
   "execution_count": 11,
   "metadata": {},
   "outputs": [],
   "source": [
    "# sns.set(style=\"darkgrid\")\n",
    "# fig, ax = plt.subplots(dpi=150)\n",
    "# ax = sns.countplot(x=\"company\", data=raw_data_df)\n",
    "# ax.set(xlabel='Company', ylabel='Frequency')\n",
    "# plt.show()"
   ]
  },
  {
   "cell_type": "code",
   "execution_count": 12,
   "metadata": {},
   "outputs": [],
   "source": [
    "# # Review Number per Year\n",
    "# year_df = raw_data_df['year'].value_counts().sort_index(ascending=True)\n",
    "# year_label = year_df.index.tolist()\n",
    "# year_index = np.arange(len(year_label))\n",
    "\n",
    "# plt.figure(figsize=(12, 9), dpi=100)\n",
    "# sns.barplot(year_index, year_df, palette='rocket')\n",
    "# plt.xticks(year_index, year_label)\n",
    "# plt.xlabel(\"Year\")\n",
    "# plt.ylabel(\"Number of Reviews\")\n",
    "# plt.title(\"Reviews per Year\")\n",
    "# plt.savefig(\"Distribution of Reviews per Year.png\", dpi=100)"
   ]
  },
  {
   "cell_type": "code",
   "execution_count": 13,
   "metadata": {},
   "outputs": [],
   "source": [
    "# # Revirw Number per Year per Company\n",
    "# fig, axs = plt.subplots(3,2, figsize=(16, 12), dpi=100)\n",
    "# companies = [['google', 'amazon'], ['facebook', 'netflix'], ['apple', 'microsoft']]\n",
    "\n",
    "# for i in range(3):\n",
    "#     for j in range(2):\n",
    "    \n",
    "#         company = companies[i][j]\n",
    "#         years_count = raw_data_df[raw_data_df['company'] == company]['year'].value_counts().sort_index(ascending=True)\n",
    "#         years_labels = years_count.index.tolist()\n",
    "#         years_index = np.arange(len(years_labels))\n",
    "\n",
    "#         g = sns.barplot(years_index, years_count, tick_label = years_labels, ax=axs[i][j], palette='rocket')\n",
    "#         g.set(xticklabels=years_labels)\n",
    "#         _ = axs[i][j].set_xlabel(\"Year\")\n",
    "#         _ = axs[i][j].set_ylabel(\"Number of Reviews\")\n",
    "#         _ = axs[i][j].set_title(\"{}: Reviews per Year\".format(company.title()))\n",
    "    \n",
    "# fig.tight_layout()\n",
    "# fig.savefig(\"Distribution of Reviews per Year per Company.png\", dpi=100)"
   ]
  },
  {
   "cell_type": "code",
   "execution_count": 14,
   "metadata": {},
   "outputs": [],
   "source": [
    "# word cloud with before preprocessing\n",
    "def grey_color_func(word, font_size, position, orientation, random_state=None, **kwargs):\n",
    "    return \"hsl(0, 0%%, %d%%)\" % random.randint(60, 100)\n",
    "\n",
    "# word_content = ' '.join(raw_data_df['summary'] + raw_data_df['pros'] + raw_data_df['cons'])\n",
    "# wc = WordCloud(margin=5, random_state=1, width=800, height=400).generate(word_content)\n",
    "# plt.figure(figsize=(20, 10), dpi=100)\n",
    "# plt.imshow(wc.recolor(color_func=grey_color_func, random_state=3), interpolation=\"bilinear\")\n",
    "# plt.axis(\"off\")\n",
    "# plt.show()"
   ]
  },
  {
   "cell_type": "code",
   "execution_count": 15,
   "metadata": {},
   "outputs": [],
   "source": [
    "# starts analysis\n",
    "starts_df = pd.concat([\n",
    "    raw_data_df['company'], \n",
    "    raw_data_df['overall-ratings'], \n",
    "    raw_data_df['work-balance-stars'], \n",
    "    raw_data_df['culture-values-stars'], \n",
    "    raw_data_df['carrer-opportunities-stars'], \n",
    "    raw_data_df['comp-benefit-stars'], \n",
    "    raw_data_df['senior-mangemnet-stars']], axis=1)"
   ]
  },
  {
   "cell_type": "code",
   "execution_count": 16,
   "metadata": {},
   "outputs": [
    {
     "name": "stderr",
     "output_type": "stream",
     "text": [
      "C:\\Users\\himad\\Anaconda3\\lib\\site-packages\\ipykernel_launcher.py:18: SettingWithCopyWarning: \n",
      "A value is trying to be set on a copy of a slice from a DataFrame.\n",
      "Try using .loc[row_indexer,col_indexer] = value instead\n",
      "\n",
      "See the caveats in the documentation: http://pandas.pydata.org/pandas-docs/stable/indexing.html#indexing-view-versus-copy\n"
     ]
    }
   ],
   "source": [
    "google_starts_df = starts_df.loc[starts_df['company'] == 'google']\n",
    "amazon_starts_df = starts_df.loc[starts_df['company'] == 'amazon']\n",
    "fb_starts_df = starts_df.loc[starts_df['company'] == 'facebook']\n",
    "netflix_starts_df = starts_df.loc[starts_df['company'] == 'netflix']\n",
    "apple_starts_df = starts_df.loc[starts_df['company'] == 'apple']\n",
    "ms_starts_df = starts_df.loc[starts_df['company'] == 'microsoft']\n",
    "\n",
    "def fill_na_to_mean(raw_data_df):\n",
    "    for col_name in raw_data_df.columns[1:]:\n",
    "        raw_list = raw_data_df[col_name].to_list()\n",
    "        mean = np.mean([float(value) for value in raw_list if value != 'none'])\n",
    "        fillna_value_list = []\n",
    "        for i in range(len(raw_list)):\n",
    "            if raw_list[i] == 'none':\n",
    "                fillna_value_list.append(mean)\n",
    "            else:\n",
    "                fillna_value_list.append(float(raw_list[i]))\n",
    "        raw_data_df[col_name] = fillna_value_list\n",
    "    return raw_data_df\n",
    "\n",
    "google_starts_df = fill_na_to_mean(google_starts_df)\n",
    "amazon_starts_df = fill_na_to_mean(amazon_starts_df)\n",
    "fb_starts_df = fill_na_to_mean(fb_starts_df)\n",
    "netflix_starts_df = fill_na_to_mean(netflix_starts_df)\n",
    "apple_starts_df = fill_na_to_mean(apple_starts_df)\n",
    "ms_starts_df = fill_na_to_mean(ms_starts_df)"
   ]
  },
  {
   "cell_type": "code",
   "execution_count": 17,
   "metadata": {},
   "outputs": [
    {
     "name": "stdout",
     "output_type": "stream",
     "text": [
      "<class 'pandas.core.frame.DataFrame'>\n",
      "Int64Index: 7775 entries, 1 to 7819\n",
      "Data columns (total 7 columns):\n",
      "company                       7775 non-null object\n",
      "overall-ratings               7775 non-null float64\n",
      "work-balance-stars            7775 non-null float64\n",
      "culture-values-stars          7775 non-null float64\n",
      "carrer-opportunities-stars    7775 non-null float64\n",
      "comp-benefit-stars            7775 non-null float64\n",
      "senior-mangemnet-stars        7775 non-null float64\n",
      "dtypes: float64(6), object(1)\n",
      "memory usage: 485.9+ KB\n"
     ]
    }
   ],
   "source": [
    "google_starts_df.info()"
   ]
  },
  {
   "cell_type": "code",
   "execution_count": 18,
   "metadata": {},
   "outputs": [],
   "source": [
    "overall_ratings_list = [google_starts_df['overall-ratings'].mean(), \n",
    "                       amazon_starts_df['overall-ratings'].mean(), \n",
    "                       fb_starts_df['overall-ratings'].mean(), \n",
    "                       netflix_starts_df['overall-ratings'].mean(), \n",
    "                       apple_starts_df['overall-ratings'].mean(), \n",
    "                       ms_starts_df['overall-ratings'].mean()]\n",
    "\n",
    "work_balance_stars_list = [google_starts_df['work-balance-stars'].mean(), \n",
    "                       amazon_starts_df['work-balance-stars'].mean(), \n",
    "                       fb_starts_df['work-balance-stars'].mean(), \n",
    "                       netflix_starts_df['work-balance-stars'].mean(), \n",
    "                       apple_starts_df['work-balance-stars'].mean(), \n",
    "                       ms_starts_df['work-balance-stars'].mean()]\n",
    "\n",
    "culture_values_stars_list = [google_starts_df['culture-values-stars'].mean(), \n",
    "                       amazon_starts_df['culture-values-stars'].mean(), \n",
    "                       fb_starts_df['culture-values-stars'].mean(), \n",
    "                       netflix_starts_df['culture-values-stars'].mean(), \n",
    "                       apple_starts_df['culture-values-stars'].mean(), \n",
    "                       ms_starts_df['culture-values-stars'].mean()]\n",
    "\n",
    "carrer_opportunities_stars_list = [google_starts_df['carrer-opportunities-stars'].mean(), \n",
    "                       amazon_starts_df['carrer-opportunities-stars'].mean(), \n",
    "                       fb_starts_df['carrer-opportunities-stars'].mean(), \n",
    "                       netflix_starts_df['carrer-opportunities-stars'].mean(), \n",
    "                       apple_starts_df['carrer-opportunities-stars'].mean(), \n",
    "                       ms_starts_df['carrer-opportunities-stars'].mean()]\n",
    "\n",
    "comp_benefit_stars_list = [google_starts_df['comp-benefit-stars'].mean(), \n",
    "                       amazon_starts_df['comp-benefit-stars'].mean(), \n",
    "                       fb_starts_df['comp-benefit-stars'].mean(), \n",
    "                       netflix_starts_df['comp-benefit-stars'].mean(), \n",
    "                       apple_starts_df['comp-benefit-stars'].mean(), \n",
    "                       ms_starts_df['comp-benefit-stars'].mean()]\n",
    "\n",
    "senior_mangemnet_stars = [google_starts_df['senior-mangemnet-stars'].mean(), \n",
    "                       amazon_starts_df['senior-mangemnet-stars'].mean(), \n",
    "                       fb_starts_df['senior-mangemnet-stars'].mean(), \n",
    "                       netflix_starts_df['senior-mangemnet-stars'].mean(), \n",
    "                       apple_starts_df['senior-mangemnet-stars'].mean(), \n",
    "                       ms_starts_df['senior-mangemnet-stars'].mean()]"
   ]
  },
  {
   "cell_type": "code",
   "execution_count": 19,
   "metadata": {},
   "outputs": [],
   "source": [
    "# plt.subplots(figsize = (16, 4), dpi=100)\n",
    "# plt.plot(\n",
    "#     np.arange(len(overall_ratings_list)), \n",
    "#     overall_ratings_list, \n",
    "#     marker='o', \n",
    "#     markerfacecolor='blue', \n",
    "#     markersize=12, \n",
    "#     color='skyblue', \n",
    "#     linewidth=4, \n",
    "#     label='overall')\n",
    "\n",
    "# plt.plot(\n",
    "#     np.arange(len(work_balance_stars_list)), \n",
    "#     work_balance_stars_list, \n",
    "#     marker='o', \n",
    "#     markerfacecolor='red', \n",
    "#     markersize=12, \n",
    "#     color='lightsalmon', \n",
    "#     linewidth=4, \n",
    "#     label='work balance')\n",
    "\n",
    "# plt.plot(\n",
    "#     np.arange(len(culture_values_stars_list)), \n",
    "#     culture_values_stars_list, \n",
    "#     marker='o', \n",
    "#     markerfacecolor='green', \n",
    "#     markersize=12, \n",
    "#     color='springgreen', \n",
    "#     linewidth=4, \n",
    "#     label='culture values')\n",
    "\n",
    "# plt.plot(\n",
    "#     np.arange(len(carrer_opportunities_stars_list)), \n",
    "#     carrer_opportunities_stars_list, \n",
    "#     marker='o', \n",
    "#     markerfacecolor='violet', \n",
    "#     markersize=12, \n",
    "#     color='purple', \n",
    "#     linewidth=4, \n",
    "#     label='carrer opportunities')\n",
    "\n",
    "# plt.plot(\n",
    "#     np.arange(len(comp_benefit_stars_list)), \n",
    "#     comp_benefit_stars_list, \n",
    "#     marker='o', \n",
    "#     markerfacecolor='gold', \n",
    "#     markersize=12, \n",
    "#     color='yellow', \n",
    "#     linewidth=4, \n",
    "#     label='comp benefit')\n",
    "\n",
    "# plt.plot(\n",
    "#     np.arange(len(senior_mangemnet_stars)), \n",
    "#     senior_mangemnet_stars, \n",
    "#     marker='o', \n",
    "#     markerfacecolor='pink', \n",
    "#     markersize=12, \n",
    "#     color='deeppink', \n",
    "#     linewidth=4, \n",
    "#     label='senior management')\n",
    "\n",
    "# plt.xticks(np.arange(6), ('Google', 'Amazon', 'Facebook', 'Netflix', 'Apple', 'Microsoft'))\n",
    "# plt.legend()\n",
    "# plt.xlabel('Company')\n",
    "# plt.ylabel('Score')\n",
    "# plt.savefig('Overall Starts and Ratings Distribution.png', dpi=100)\n",
    "# plt.show()"
   ]
  },
  {
   "cell_type": "code",
   "execution_count": 20,
   "metadata": {},
   "outputs": [
    {
     "data": {
      "text/html": [
       "<div>\n",
       "<style scoped>\n",
       "    .dataframe tbody tr th:only-of-type {\n",
       "        vertical-align: middle;\n",
       "    }\n",
       "\n",
       "    .dataframe tbody tr th {\n",
       "        vertical-align: top;\n",
       "    }\n",
       "\n",
       "    .dataframe thead th {\n",
       "        text-align: right;\n",
       "    }\n",
       "</style>\n",
       "<table border=\"1\" class=\"dataframe\">\n",
       "  <thead>\n",
       "    <tr style=\"text-align: right;\">\n",
       "      <th></th>\n",
       "      <th>Amazon</th>\n",
       "      <th>Apple</th>\n",
       "      <th>Facebook</th>\n",
       "      <th>Google</th>\n",
       "      <th>Microsoft</th>\n",
       "      <th>Netflix</th>\n",
       "    </tr>\n",
       "  </thead>\n",
       "  <tbody>\n",
       "    <tr>\n",
       "      <th>count</th>\n",
       "      <td>26283.00</td>\n",
       "      <td>12858.00</td>\n",
       "      <td>1578.00</td>\n",
       "      <td>7775.00</td>\n",
       "      <td>17830.00</td>\n",
       "      <td>798.00</td>\n",
       "    </tr>\n",
       "    <tr>\n",
       "      <th>mean</th>\n",
       "      <td>3.59</td>\n",
       "      <td>3.96</td>\n",
       "      <td>4.51</td>\n",
       "      <td>4.34</td>\n",
       "      <td>3.82</td>\n",
       "      <td>3.41</td>\n",
       "    </tr>\n",
       "    <tr>\n",
       "      <th>std</th>\n",
       "      <td>1.26</td>\n",
       "      <td>1.06</td>\n",
       "      <td>0.95</td>\n",
       "      <td>0.92</td>\n",
       "      <td>1.04</td>\n",
       "      <td>1.42</td>\n",
       "    </tr>\n",
       "    <tr>\n",
       "      <th>min</th>\n",
       "      <td>1.00</td>\n",
       "      <td>1.00</td>\n",
       "      <td>1.00</td>\n",
       "      <td>1.00</td>\n",
       "      <td>1.00</td>\n",
       "      <td>1.00</td>\n",
       "    </tr>\n",
       "    <tr>\n",
       "      <th>25%</th>\n",
       "      <td>3.00</td>\n",
       "      <td>3.00</td>\n",
       "      <td>4.00</td>\n",
       "      <td>4.00</td>\n",
       "      <td>3.00</td>\n",
       "      <td>2.00</td>\n",
       "    </tr>\n",
       "    <tr>\n",
       "      <th>50%</th>\n",
       "      <td>4.00</td>\n",
       "      <td>4.00</td>\n",
       "      <td>5.00</td>\n",
       "      <td>5.00</td>\n",
       "      <td>4.00</td>\n",
       "      <td>4.00</td>\n",
       "    </tr>\n",
       "    <tr>\n",
       "      <th>75%</th>\n",
       "      <td>5.00</td>\n",
       "      <td>5.00</td>\n",
       "      <td>5.00</td>\n",
       "      <td>5.00</td>\n",
       "      <td>5.00</td>\n",
       "      <td>5.00</td>\n",
       "    </tr>\n",
       "    <tr>\n",
       "      <th>max</th>\n",
       "      <td>5.00</td>\n",
       "      <td>5.00</td>\n",
       "      <td>5.00</td>\n",
       "      <td>5.00</td>\n",
       "      <td>5.00</td>\n",
       "      <td>5.00</td>\n",
       "    </tr>\n",
       "  </tbody>\n",
       "</table>\n",
       "</div>"
      ],
      "text/plain": [
       "         Amazon     Apple  Facebook   Google  Microsoft  Netflix\n",
       "count  26283.00  12858.00   1578.00  7775.00   17830.00   798.00\n",
       "mean       3.59      3.96      4.51     4.34       3.82     3.41\n",
       "std        1.26      1.06      0.95     0.92       1.04     1.42\n",
       "min        1.00      1.00      1.00     1.00       1.00     1.00\n",
       "25%        3.00      3.00      4.00     4.00       3.00     2.00\n",
       "50%        4.00      4.00      5.00     5.00       4.00     4.00\n",
       "75%        5.00      5.00      5.00     5.00       5.00     5.00\n",
       "max        5.00      5.00      5.00     5.00       5.00     5.00"
      ]
     },
     "execution_count": 20,
     "metadata": {},
     "output_type": "execute_result"
    }
   ],
   "source": [
    "group = starts_df.groupby('company')['overall-ratings'].describe()\n",
    "group = group.transpose()\n",
    "group.columns = ['Amazon', 'Apple', 'Facebook', 'Google', 'Microsoft', 'Netflix']\n",
    "group.round(2)"
   ]
  },
  {
   "cell_type": "code",
   "execution_count": 21,
   "metadata": {},
   "outputs": [
    {
     "data": {
      "text/html": [
       "<div>\n",
       "<style scoped>\n",
       "    .dataframe tbody tr th:only-of-type {\n",
       "        vertical-align: middle;\n",
       "    }\n",
       "\n",
       "    .dataframe tbody tr th {\n",
       "        vertical-align: top;\n",
       "    }\n",
       "\n",
       "    .dataframe thead th {\n",
       "        text-align: right;\n",
       "    }\n",
       "</style>\n",
       "<table border=\"1\" class=\"dataframe\">\n",
       "  <thead>\n",
       "    <tr style=\"text-align: right;\">\n",
       "      <th></th>\n",
       "      <th>Amazon</th>\n",
       "      <th>Apple</th>\n",
       "      <th>Facebook</th>\n",
       "      <th>Google</th>\n",
       "      <th>Microsoft</th>\n",
       "      <th>Netflix</th>\n",
       "    </tr>\n",
       "  </thead>\n",
       "  <tbody>\n",
       "    <tr>\n",
       "      <th>Work Balance</th>\n",
       "      <td>3.01</td>\n",
       "      <td>3.34</td>\n",
       "      <td>3.90</td>\n",
       "      <td>4.00</td>\n",
       "      <td>3.57</td>\n",
       "      <td>3.20</td>\n",
       "    </tr>\n",
       "    <tr>\n",
       "      <th>Culture Values</th>\n",
       "      <td>3.53</td>\n",
       "      <td>4.10</td>\n",
       "      <td>4.52</td>\n",
       "      <td>4.36</td>\n",
       "      <td>3.66</td>\n",
       "      <td>3.51</td>\n",
       "    </tr>\n",
       "    <tr>\n",
       "      <th>Career Opportunities</th>\n",
       "      <td>3.62</td>\n",
       "      <td>3.42</td>\n",
       "      <td>4.36</td>\n",
       "      <td>4.03</td>\n",
       "      <td>3.71</td>\n",
       "      <td>3.15</td>\n",
       "    </tr>\n",
       "    <tr>\n",
       "      <th>Company Benefits</th>\n",
       "      <td>3.71</td>\n",
       "      <td>4.06</td>\n",
       "      <td>4.57</td>\n",
       "      <td>4.43</td>\n",
       "      <td>4.02</td>\n",
       "      <td>4.25</td>\n",
       "    </tr>\n",
       "    <tr>\n",
       "      <th>Senior Management</th>\n",
       "      <td>3.17</td>\n",
       "      <td>3.45</td>\n",
       "      <td>4.26</td>\n",
       "      <td>3.87</td>\n",
       "      <td>3.18</td>\n",
       "      <td>3.18</td>\n",
       "    </tr>\n",
       "  </tbody>\n",
       "</table>\n",
       "</div>"
      ],
      "text/plain": [
       "                      Amazon  Apple  Facebook  Google  Microsoft  Netflix\n",
       "Work Balance            3.01   3.34      3.90    4.00       3.57     3.20\n",
       "Culture Values          3.53   4.10      4.52    4.36       3.66     3.51\n",
       "Career Opportunities    3.62   3.42      4.36    4.03       3.71     3.15\n",
       "Company Benefits        3.71   4.06      4.57    4.43       4.02     4.25\n",
       "Senior Management       3.17   3.45      4.26    3.87       3.18     3.18"
      ]
     },
     "execution_count": 21,
     "metadata": {},
     "output_type": "execute_result"
    }
   ],
   "source": [
    "# Starts Distribution per Company\n",
    "\n",
    "ratings_comp = starts_df[[\"company\", \"work-balance-stars\", \"culture-values-stars\", \"carrer-opportunities-stars\", \"comp-benefit-stars\", \"senior-mangemnet-stars\"]]\n",
    "ratings_comp.set_index([\"company\"], inplace=True)\n",
    "ratings_comp = ratings_comp[~(ratings_comp[[\"work-balance-stars\", \"culture-values-stars\", \"carrer-opportunities-stars\", \"comp-benefit-stars\", \"senior-mangemnet-stars\"]] == \"none\").any(axis=1)]\n",
    "ratings_comp[[\"work-balance-stars\", \"culture-values-stars\", \"carrer-opportunities-stars\", \"comp-benefit-stars\", \"senior-mangemnet-stars\"]] = ratings_comp[[\"work-balance-stars\", \"culture-values-stars\", \"carrer-opportunities-stars\", \"comp-benefit-stars\", \"senior-mangemnet-stars\"]].apply(pd.to_numeric)\n",
    "group = ratings_comp.groupby(\"company\")[\"work-balance-stars\", \"culture-values-stars\", \"carrer-opportunities-stars\", \"comp-benefit-stars\", \"senior-mangemnet-stars\"].mean()\n",
    "group.columns = [\"Work Balance\", \"Culture Values\", \"Career Opportunities\", \"Company Benefits\", \"Senior Management\"]\n",
    "group = group.transpose()\n",
    "group.columns = ['Amazon', 'Apple', 'Facebook', 'Google', 'Microsoft', 'Netflix']\n",
    "group.round(2)"
   ]
  },
  {
   "cell_type": "code",
   "execution_count": 22,
   "metadata": {},
   "outputs": [],
   "source": [
    "# plt.figure(figsize=(14, 9), dpi=100)\n",
    "# sns.heatmap(group, annot=True, fmt=\"f\", cmap=\"YlGnBu\")\n",
    "# plt.savefig(\"Distribution of Starts per Company Heatmap.png\", dpi=100)"
   ]
  },
  {
   "cell_type": "code",
   "execution_count": 23,
   "metadata": {},
   "outputs": [],
   "source": [
    "# # # current vs. former\n",
    "# fig, axs = plt.subplots(3,2, figsize=(12, 9), facecolor='w', edgecolor='k', dpi=100)\n",
    "# companies = ['google', 'amazon', 'facebook', 'netflix', 'apple', 'microsoft']\n",
    "# axs = axs.ravel()\n",
    "\n",
    "\n",
    "# for i, company in enumerate(companies):\n",
    "#     current_employee_count = raw_data_df.loc[raw_data_df['company'] == company]['job-title'].str.split('-', expand=True)[0].value_counts().sort_values(ascending=True)\n",
    "#     employee_labels = current_employee_count.index.tolist()\n",
    "#     employee_index = np.arange(len(employee_labels))\n",
    "        \n",
    "#     bars = axs[i].bar(employee_index, current_employee_count, tick_label=['Former Employee', 'Current Employee'])\n",
    "#     bars[0].set_color('gray')\n",
    "#     bars[1].set_color('b')\n",
    "#     axs[i].set_xlabel('Types of Employee')\n",
    "#     axs[i].set_ylabel('Number of Reviews')\n",
    "#     axs[i].set_title('{}: Reviews (Former vs Current)'.format(company.title()))\n",
    "    \n",
    "# fig.tight_layout()\n",
    "# # fig.savefig(\"Review Number per Employee Type per Company.png\", dpi=100)\n"
   ]
  },
  {
   "cell_type": "code",
   "execution_count": 24,
   "metadata": {},
   "outputs": [],
   "source": [
    "# fig, axs = plt.subplots(3,2, figsize=(12, 9), facecolor='w', edgecolor='k', dpi=100)\n",
    "# companies = ['google', 'amazon', 'facebook', 'netflix', 'apple', 'microsoft']\n",
    "# axs = axs.ravel()\n",
    "\n",
    "# for i, company in enumerate(companies):\n",
    "    \n",
    "#         job_rating = raw_data_df[raw_data_df['company'] == company][['job-title', 'overall-ratings']]\n",
    "#         job_rating['job-title'] = job_rating['job-title'].str.split(' - ', expand=True)[0]\n",
    "#         job_rating_count = job_rating.groupby('job-title')['overall-ratings'].mean().sort_values(ascending=True)\n",
    "\n",
    "#         bars = axs[i].bar([0,1], job_rating_count, tick_label = ['Current Employee', 'Former Employee'])\n",
    "#         bars[0].set_color('gray')\n",
    "#         bars[1].set_color('b')\n",
    "#         axs[i].set_title('{}: Avg. Overall Rating (Current vs Former)'.format(company.title()))\n",
    "#         axs[i].set_xlabel(\"Types of Employee\")\n",
    "#         axs[i].set_ylabel(\"Avg. Overall Rating\")\n",
    "\n",
    "# fig.tight_layout()\n",
    "# fig.savefig(\"Overall Rating per Employee Type per Company.png\", dpi=100)"
   ]
  },
  {
   "cell_type": "markdown",
   "metadata": {},
   "source": [
    "# Word Analyze"
   ]
  },
  {
   "cell_type": "code",
   "execution_count": 25,
   "metadata": {},
   "outputs": [
    {
     "name": "stdout",
     "output_type": "stream",
     "text": [
      "185\n",
      "{'mightn', 'them', 'had', 'but', 'been', 'at', 'while', 'now', 'amazon', 'that', 'have', 'off', 'do', 'so', 'same', 'mustn', 'between', 'because', 'down', 'myself', 'yourselves', \"you'll\", 'being', 'to', 'd', 'if', 've', 'against', 'just', \"couldn't\", 'own', 'any', 'y', 'be', 'from', 'won', 'm', 'facebook', 'before', 'shan', 'an', \"shan't\", 'such', 'yours', 'what', 'me', 'should', 'they', 'only', 'there', 'were', 'or', 'theirs', 'its', 'him', 'ourselves', 'are', 'has', 'did', 'why', 'does', 'for', 'out', 'then', 'more', 'during', 'than', 'was', 'other', 're', \"wouldn't\", 'over', 'once', 'itself', 'll', 'ours', 'below', 'doesn', 'isn', 'apple', 'no', 'having', 'further', 'hadn', \"weren't\", \"you've\", 'each', 'couldn', 'haven', \"hadn't\", \"aren't\", 'google', 'don', \"should've\", 'up', 'you', \"needn't\", 'we', 'those', 'through', \"you'd\", 'very', 'after', 'this', 'when', 'herself', 'too', \"she's\", 'your', 'by', \"mightn't\", 'about', 'themselves', \"shouldn't\", 'until', \"it's\", 'microsoft', 'her', 'hasn', \"isn't\", 'aren', 'hers', 's', 'under', 'yourself', 'with', \"you're\", 'which', \"wasn't\", 'am', 'nor', 'his', 'in', 'here', 'into', 'where', 'who', 'these', 'o', 'i', 'himself', 'she', 'their', \"haven't\", 'all', 'on', 'wasn', 'will', \"didn't\", 'a', \"hasn't\", 'ma', 'is', 'wouldn', 'he', 'of', \"don't\", 'whom', 'not', 'needn', \"that'll\", 'the', 'didn', 'few', 'again', 'shouldn', 'weren', 'can', 'both', 'and', 'some', 't', \"doesn't\", 'above', \"mustn't\", \"won't\", 'my', 'most', 'ain', 'doing', 'it', 'netflix', 'as', 'how', 'our'}\n"
     ]
    }
   ],
   "source": [
    "stop_words = set(stopwords.words(\"english\"))\n",
    "stop_words = stop_words.union(raw_data_df[\"company\"].unique())\n",
    "print(len(stop_words))\n",
    "print(stop_words)"
   ]
  },
  {
   "cell_type": "code",
   "execution_count": 26,
   "metadata": {},
   "outputs": [],
   "source": [
    "def top_words(company, review_type, stop_words, top=20):\n",
    "    \n",
    "    corpus = raw_data_df[raw_data_df['company'] == company][review_type].str.lower()\n",
    "    # Remove punctuations\n",
    "    corpus = corpus.str.replace(\"[^a-zA-Z]\", \" \")\n",
    "    # Convert to list from string\n",
    "    corpus = corpus.str.split()\n",
    "    # Remove stop words\n",
    "    corpus = corpus.apply(lambda x: [word for word in x if word not in stop_words])\n",
    "\n",
    "    # Lemmatisation\n",
    "    lem = WordNetLemmatizer()\n",
    "    def lemmatize_text(text):\n",
    "        return [lem.lemmatize(word) for word in text]\n",
    "    corpus = corpus.apply(lemmatize_text)\n",
    "    corpus = corpus.apply(pd.Series).stack()\n",
    "    return set(corpus.value_counts()[:top].index.tolist())"
   ]
  },
  {
   "cell_type": "code",
   "execution_count": 27,
   "metadata": {},
   "outputs": [
    {
     "data": {
      "text/plain": [
       "{'benefit', 'company', 'culture', 'good', 'great', 'lot', 'people', 'work'}"
      ]
     },
     "execution_count": 27,
     "metadata": {},
     "output_type": "execute_result"
    }
   ],
   "source": [
    "amazon_pros = top_words(\"amazon\", \"pros\", stop_words)\n",
    "apple_pros = top_words(\"apple\", \"pros\", stop_words)\n",
    "facebook_pros = top_words('facebook', 'pros', stop_words)\n",
    "google_pros = top_words(\"google\", \"pros\", stop_words)\n",
    "micro_pros = top_words(\"microsoft\", \"pros\", stop_words)\n",
    "netflix_pros = top_words('netflix', 'pros', stop_words)\n",
    "\n",
    "company_common_pros = set.intersection(amazon_pros, apple_pros, facebook_pros, google_pros, micro_pros, netflix_pros)\n",
    "company_common_pros"
   ]
  },
  {
   "cell_type": "code",
   "execution_count": 28,
   "metadata": {},
   "outputs": [
    {
     "data": {
      "text/plain": [
       "{'company', 'get', 'like', 'management', 'manager', 'people', 'time', 'work'}"
      ]
     },
     "execution_count": 28,
     "metadata": {},
     "output_type": "execute_result"
    }
   ],
   "source": [
    "amazon_cons = top_words(\"amazon\", \"cons\", stop_words)\n",
    "apple_cons = top_words(\"apple\", \"cons\", stop_words)\n",
    "facebook_cons = top_words('facebook', 'cons', stop_words)\n",
    "google_cons = top_words(\"google\", \"cons\", stop_words)\n",
    "micro_cons = top_words(\"microsoft\", \"cons\", stop_words)\n",
    "netflix_cons = top_words('netflix', 'cons', stop_words)\n",
    "\n",
    "company_common_cons = set.intersection(amazon_cons, apple_cons, facebook_cons, google_cons, micro_cons, netflix_cons)\n",
    "company_common_cons"
   ]
  },
  {
   "cell_type": "code",
   "execution_count": 29,
   "metadata": {},
   "outputs": [],
   "source": [
    "pd.options.display.max_rows = 4000\n",
    "cons_common = pd.Series(' '.join(raw_data_df['cons'].str.lower()).split()).value_counts()[:70]\n",
    "cons_except = {\"hours\", \"hard\", \"time\", \"life\"}\n",
    "cons_stop = set(cons_common.index.tolist())\n",
    "cons_stop = cons_stop - set(cons_except)\n",
    "cons_stop = cons_stop.union(company_common_cons)"
   ]
  },
  {
   "cell_type": "code",
   "execution_count": 30,
   "metadata": {},
   "outputs": [],
   "source": [
    "pros_common = pd.Series(' '.join(raw_data_df['pros'].str.lower()).split()).value_counts()[:70]\n",
    "pros_except = {\"culture\", \"learn\", \"smart\", \"opportunities\", \n",
    "               \"environment\", \"amazing\", \"team\", \"flexible\", \"opportunity\"}\n",
    "pros_stop = set(pros_common.index.tolist())\n",
    "pros_stop = pros_stop - set(pros_except)\n",
    "pros_stop = pros_stop.union(company_common_pros)"
   ]
  },
  {
   "cell_type": "code",
   "execution_count": 31,
   "metadata": {},
   "outputs": [],
   "source": [
    "def create_cloud(company, review_type, new_stop):\n",
    "    # Convert to lowercase\n",
    "    corpus = raw_data_df[raw_data_df['company'] == company][review_type].str.lower()\n",
    "    # Remove punctuations\n",
    "    corpus = corpus.str.replace(\"[^a-zA-Z]\", \" \")\n",
    "    # Convert to list from string\n",
    "    corpus = corpus.str.split()\n",
    "    # Remove stop words\n",
    "    new_stop = stop_words.union(new_stop)\n",
    "    corpus = corpus.apply(lambda x: [word for word in x if word not in new_stop])\n",
    "    # Lemmatisation\n",
    "    lem = WordNetLemmatizer()\n",
    "    def lemmatize_text(text):\n",
    "        return [lem.lemmatize(word) for word in text]\n",
    "    corpus = corpus.apply(lemmatize_text)\n",
    "    corpus = corpus.str.join(\" \")\n",
    "    \n",
    "    return WordCloud(margin=5, random_state=1, width=800, height=400).generate(\" \".join(corpus))"
   ]
  },
  {
   "cell_type": "code",
   "execution_count": 32,
   "metadata": {},
   "outputs": [],
   "source": [
    "# for i, company in enumerate(raw_data_df[\"company\"].unique()):\n",
    "#     wc = create_cloud(company, \"cons\", cons_stop)\n",
    "#     fig = plt.figure(figsize=(18, 9), dpi=100)\n",
    "#     plt.imshow(wc.recolor(color_func=grey_color_func, random_state=3), interpolation=\"bilinear\")\n",
    "#     plt.title(\"{} Cons Word Cloud\".format(company.title()), fontsize=20)\n",
    "#     plt.axis('off')\n",
    "#     fig.savefig(\"{} Cons Word Cloud.png\".format(company), dpi=100)"
   ]
  },
  {
   "cell_type": "code",
   "execution_count": 33,
   "metadata": {},
   "outputs": [],
   "source": [
    "# for i, company in enumerate(raw_data_df[\"company\"].unique()):\n",
    "#     wc = create_cloud(company, \"pros\", pros_stop)\n",
    "#     fig = plt.figure(figsize=(18, 9), dpi=100)\n",
    "#     plt.imshow(wc.recolor(color_func=grey_color_func, random_state=3), interpolation=\"bilinear\")\n",
    "#     plt.title(\"{} Pros Word Cloud\".format(company.title()), fontsize=20)\n",
    "#     plt.axis('off')\n",
    "#     fig.savefig(\"{} Pros Word Cloud.png\".format(company), dpi=100)"
   ]
  },
  {
   "cell_type": "markdown",
   "metadata": {},
   "source": [
    "# Modeling"
   ]
  },
  {
   "cell_type": "code",
   "execution_count": 34,
   "metadata": {},
   "outputs": [],
   "source": [
    "from collections import Counter\n",
    "from sklearn.model_selection import train_test_split\n",
    "from sklearn import metrics\n",
    "from sklearn.naive_bayes import MultinomialNB\n",
    "from sklearn.linear_model import SGDClassifier\n",
    "from sklearn.svm import LinearSVC\n",
    "from sklearn.feature_extraction.text import CountVectorizer, TfidfVectorizer\n",
    "from sklearn.model_selection import cross_val_score, StratifiedShuffleSplit"
   ]
  },
  {
   "cell_type": "code",
   "execution_count": 35,
   "metadata": {},
   "outputs": [],
   "source": [
    "def clean_corpus(pd_col):\n",
    "    pd_col = pd_col.str.lower()\n",
    "    pd_col = pd_col.str.replace(\"[^a-zA-Z]\", \" \")\n",
    "    pd_col = pd_col.str.split()\n",
    "    pd_col = pd_col.apply(lambda x: [word for word in x if word not in stop_words])\n",
    "    lem = WordNetLemmatizer()\n",
    "    def lemmatize_text(text):\n",
    "        return [lem.lemmatize(word) for word in text]\n",
    "    pd_col = pd_col.apply(lemmatize_text)\n",
    "    return pd_col"
   ]
  },
  {
   "cell_type": "code",
   "execution_count": 36,
   "metadata": {},
   "outputs": [],
   "source": [
    "raw_sum_col = raw_data_df['summary']\n",
    "raw_pros_col = raw_data_df['pros']\n",
    "raw_cons_col = raw_data_df['cons']\n",
    "\n",
    "raw_sum_col = clean_corpus(raw_sum_col)\n",
    "raw_pros_col = clean_corpus(raw_pros_col)\n",
    "raw_cons_col = clean_corpus(raw_cons_col)"
   ]
  },
  {
   "cell_type": "code",
   "execution_count": 37,
   "metadata": {},
   "outputs": [],
   "source": [
    "raw_x = []\n",
    "raw_sum_list = raw_sum_col.to_list()\n",
    "raw_pros_list = raw_pros_col.to_list()\n",
    "raw_cons_list = raw_cons_col.to_list()\n",
    "for i in range(len(raw_data_df)):\n",
    "    raw_x.append(' '.join(raw_sum_list[i]) + ' ' + ' '.join(raw_pros_list[i]) + ' ' + ' '.join(raw_cons_list[i]))\n",
    "#     raw_x.append(' '.join(raw_sum_list[i]))"
   ]
  },
  {
   "cell_type": "code",
   "execution_count": 38,
   "metadata": {},
   "outputs": [],
   "source": [
    "raw_y = raw_data_df['overall-ratings'].to_list()"
   ]
  },
  {
   "cell_type": "code",
   "execution_count": 39,
   "metadata": {},
   "outputs": [],
   "source": [
    "raw_binary_y = []\n",
    "for i in range(len(raw_y)):\n",
    "    if raw_y[i] >= 3:\n",
    "        raw_binary_y += [1]\n",
    "    else:\n",
    "        raw_binary_y += [0]"
   ]
  },
  {
   "cell_type": "code",
   "execution_count": 40,
   "metadata": {},
   "outputs": [
    {
     "data": {
      "text/plain": [
       "0.8636810583713238"
      ]
     },
     "execution_count": 40,
     "metadata": {},
     "output_type": "execute_result"
    }
   ],
   "source": [
    "# majority vote\n",
    "len([y for y in raw_binary_y if y == 1])/len(raw_binary_y)"
   ]
  },
  {
   "cell_type": "code",
   "execution_count": 41,
   "metadata": {},
   "outputs": [],
   "source": [
    "# train_x, valid_x, train_y, valid_y = train_test_split(raw_x, raw_y, test_size=0.1, random_state=0)"
   ]
  },
  {
   "cell_type": "code",
   "execution_count": 42,
   "metadata": {},
   "outputs": [],
   "source": [
    "# token_counter = Counter()\n",
    "# for seq in raw_x:\n",
    "#     token_counter.update(seq.split())\n",
    "\n",
    "# print(len(token_counter))\n",
    "# print(token_counter.most_common())"
   ]
  },
  {
   "cell_type": "code",
   "execution_count": 43,
   "metadata": {},
   "outputs": [],
   "source": [
    "#  unigram term frequency vectorizer, set minimum document frequency to 5\n",
    "gram1_count_vectorizer = CountVectorizer(encoding='latin-1',\n",
    "                                         min_df = 5, \n",
    "                                         binary=False,  \n",
    "                                         stop_words='english')\n",
    "\n",
    "#  unigram and bigram term frequency vectorizer, set minimum document frequency to 5\n",
    "gram12_count_vectorizer = CountVectorizer(encoding='latin-1', \n",
    "                                          min_df = 5,\n",
    "                                          ngram_range=(1,2), \n",
    "                                          binary = False, \n",
    "                                          stop_words='english')\n",
    "\n",
    "tfidf_vectorizer = TfidfVectorizer(encoding='latin-1', \n",
    "                                   min_df = 5, \n",
    "                                   ngram_range=(1,2), \n",
    "                                   binary = False, \n",
    "                                   stop_words='english')"
   ]
  },
  {
   "cell_type": "code",
   "execution_count": 44,
   "metadata": {},
   "outputs": [],
   "source": [
    "train_x_1gram_vec = gram1_count_vectorizer.fit_transform(raw_x)\n",
    "train_x_12gram_vec = gram12_count_vectorizer.fit_transform(raw_x)\n",
    "train_x_tfidf_vec = tfidf_vectorizer.fit_transform(raw_x)"
   ]
  },
  {
   "cell_type": "code",
   "execution_count": 45,
   "metadata": {},
   "outputs": [],
   "source": [
    "# train_x_1gram_vec = gram1_count_vectorizer.fit_transform(train_x)\n",
    "# train_x_12gram_vec = gram12_count_vectorizer.fit_transform(train_x)\n",
    "# train_x_tfidt_vec = tfidf_vectorizer.fit_transform(train_x)"
   ]
  },
  {
   "cell_type": "code",
   "execution_count": 46,
   "metadata": {},
   "outputs": [],
   "source": [
    "# valid_x_1gram_vec = gram1_count_vectorizer.transform(valid_x)\n",
    "# valid_x_12gram_vec = gram12_count_vectorizer.transform(valid_x)\n",
    "# valid_x_tfidt_vec = tfidf_vectorizer.transform(valid_x)"
   ]
  },
  {
   "cell_type": "code",
   "execution_count": 47,
   "metadata": {},
   "outputs": [],
   "source": [
    "nb = MultinomialNB()"
   ]
  },
  {
   "cell_type": "code",
   "execution_count": 48,
   "metadata": {},
   "outputs": [],
   "source": [
    "# %time nb.fit(train_x_1gram_vec, train_y)\n",
    "# valid_pred_y = nb.predict(valid_x_1gram_vec)\n",
    "# print(metrics.classification_report(valid_y, valid_pred_y))\n",
    "# print('accuracy ', np.mean(valid_pred_y == valid_y))"
   ]
  },
  {
   "cell_type": "code",
   "execution_count": 49,
   "metadata": {},
   "outputs": [
    {
     "name": "stdout",
     "output_type": "stream",
     "text": [
      "Mean cross-validation score: 0.874 (+/- 0.002)\n"
     ]
    }
   ],
   "source": [
    "cv = StratifiedShuffleSplit(n_splits=10, test_size=.25)\n",
    "nb_1gram_cv_scores = cross_val_score(nb, train_x_1gram_vec, raw_binary_y, cv=cv)\n",
    "mean, std = nb_1gram_cv_scores.mean(), nb_1gram_cv_scores.std()\n",
    "print(f\"Mean cross-validation score: {mean:.3f} (+/- {std:.3f})\")"
   ]
  },
  {
   "cell_type": "code",
   "execution_count": 50,
   "metadata": {},
   "outputs": [
    {
     "name": "stdout",
     "output_type": "stream",
     "text": [
      "Mean cross-validation score: 0.863 (+/- 0.002)\n"
     ]
    }
   ],
   "source": [
    "nb_12gram_cv_scores = cross_val_score(nb, train_x_12gram_vec, raw_binary_y, cv=cv)\n",
    "mean, std = nb_12gram_cv_scores.mean(), nb_12gram_cv_scores.std()\n",
    "print(f\"Mean cross-validation score: {mean:.3f} (+/- {std:.3f})\")"
   ]
  },
  {
   "cell_type": "code",
   "execution_count": 51,
   "metadata": {},
   "outputs": [
    {
     "name": "stdout",
     "output_type": "stream",
     "text": [
      "Mean cross-validation score: 0.873 (+/- 0.001)\n"
     ]
    }
   ],
   "source": [
    "nb_tfidf_cv_scores = cross_val_score(nb, train_x_tfidf_vec, raw_binary_y, cv=cv)\n",
    "mean, std = nb_tfidf_cv_scores.mean(), nb_tfidf_cv_scores.std()\n",
    "print(f\"Mean cross-validation score: {mean:.3f} (+/- {std:.3f})\")"
   ]
  },
  {
   "cell_type": "code",
   "execution_count": 52,
   "metadata": {},
   "outputs": [
    {
     "name": "stderr",
     "output_type": "stream",
     "text": [
      "C:\\Users\\himad\\Anaconda3\\lib\\site-packages\\sklearn\\linear_model\\stochastic_gradient.py:166: FutureWarning: max_iter and tol parameters have been added in SGDClassifier in 0.19. If both are left unset, they default to max_iter=5 and tol=None. If tol is not None, max_iter defaults to max_iter=1000. From 0.21, default max_iter will be 1000, and default tol will be 1e-3.\n",
      "  FutureWarning)\n"
     ]
    },
    {
     "name": "stdout",
     "output_type": "stream",
     "text": [
      "Mean cross-validation score: 0.884 (+/- 0.006)\n"
     ]
    }
   ],
   "source": [
    "svm = SGDClassifier()\n",
    "svm_1gram_cv_scores = cross_val_score(svm, train_x_1gram_vec, raw_binary_y, cv=cv)\n",
    "mean, std = svm_1gram_cv_scores.mean(), svm_1gram_cv_scores.std()\n",
    "print(f\"Mean cross-validation score: {mean:.3f} (+/- {std:.3f})\")"
   ]
  },
  {
   "cell_type": "code",
   "execution_count": 53,
   "metadata": {},
   "outputs": [
    {
     "name": "stderr",
     "output_type": "stream",
     "text": [
      "C:\\Users\\himad\\Anaconda3\\lib\\site-packages\\sklearn\\linear_model\\stochastic_gradient.py:166: FutureWarning: max_iter and tol parameters have been added in SGDClassifier in 0.19. If both are left unset, they default to max_iter=5 and tol=None. If tol is not None, max_iter defaults to max_iter=1000. From 0.21, default max_iter will be 1000, and default tol will be 1e-3.\n",
      "  FutureWarning)\n"
     ]
    },
    {
     "name": "stdout",
     "output_type": "stream",
     "text": [
      "Mean cross-validation score: 0.884 (+/- 0.005)\n"
     ]
    }
   ],
   "source": [
    "svm_12gram_cv_scores = cross_val_score(svm, train_x_12gram_vec, raw_binary_y, cv=cv)\n",
    "mean, std = svm_12gram_cv_scores.mean(), svm_12gram_cv_scores.std()\n",
    "print(f\"Mean cross-validation score: {mean:.3f} (+/- {std:.3f})\")"
   ]
  },
  {
   "cell_type": "code",
   "execution_count": 54,
   "metadata": {},
   "outputs": [
    {
     "name": "stderr",
     "output_type": "stream",
     "text": [
      "C:\\Users\\himad\\Anaconda3\\lib\\site-packages\\sklearn\\linear_model\\stochastic_gradient.py:166: FutureWarning: max_iter and tol parameters have been added in SGDClassifier in 0.19. If both are left unset, they default to max_iter=5 and tol=None. If tol is not None, max_iter defaults to max_iter=1000. From 0.21, default max_iter will be 1000, and default tol will be 1e-3.\n",
      "  FutureWarning)\n"
     ]
    },
    {
     "name": "stdout",
     "output_type": "stream",
     "text": [
      "Mean cross-validation score: 0.880 (+/- 0.001)\n"
     ]
    }
   ],
   "source": [
    "svm_tfidf_cv_scores = cross_val_score(svm, train_x_tfidf_vec, raw_binary_y, cv=cv)\n",
    "mean, std = svm_tfidf_cv_scores.mean(), svm_tfidf_cv_scores.std()\n",
    "print(f\"Mean cross-validation score: {mean:.3f} (+/- {std:.3f})\")"
   ]
  },
  {
   "cell_type": "code",
   "execution_count": 55,
   "metadata": {},
   "outputs": [],
   "source": [
    "base_line = np.array([0.8636810583713238] * 10)"
   ]
  },
  {
   "cell_type": "code",
   "execution_count": 56,
   "metadata": {
    "scrolled": false
   },
   "outputs": [
    {
     "data": {
      "image/png": "[encoded data removed]",
      "text/plain": [
       "<Figure size 1600x800 with 1 Axes>"
      ]
     },
     "metadata": {
      "needs_background": "light"
     },
     "output_type": "display_data"
    }
   ],
   "source": [
    "plt.subplots(figsize = (16, 8), dpi=100)\n",
    "plt.plot(\n",
    "    np.arange(len(nb_1gram_cv_scores)), \n",
    "    nb_1gram_cv_scores, \n",
    "    marker='o', \n",
    "    markerfacecolor='blue', \n",
    "    markersize=12, \n",
    "    color='skyblue', \n",
    "    linewidth=4, \n",
    "    label='MNB Unigram')\n",
    "\n",
    "plt.plot(\n",
    "    np.arange(len(nb_12gram_cv_scores)), \n",
    "    nb_12gram_cv_scores, \n",
    "    marker='o', \n",
    "    markerfacecolor='red', \n",
    "    markersize=12, \n",
    "    color='lightsalmon', \n",
    "    linewidth=4, \n",
    "    label='MNB Unigram and Bigram')\n",
    "\n",
    "plt.plot(\n",
    "    np.arange(len(nb_tfidf_cv_scores)), \n",
    "    nb_tfidf_cv_scores, \n",
    "    marker='o', \n",
    "    markerfacecolor='green', \n",
    "    markersize=12, \n",
    "    color='lightgreen', \n",
    "    linewidth=4, \n",
    "    label='MNB Unigram TFIDF')\n",
    "\n",
    "plt.plot(\n",
    "    np.arange(len(svm_1gram_cv_scores)), \n",
    "    svm_1gram_cv_scores, \n",
    "    marker='o', \n",
    "    markerfacecolor='violet', \n",
    "    markersize=12, \n",
    "    color='purple', \n",
    "    linewidth=4, \n",
    "    label='SVM Unigram')\n",
    "\n",
    "plt.plot(\n",
    "    np.arange(len(svm_12gram_cv_scores)), \n",
    "    svm_12gram_cv_scores, \n",
    "    marker='o', \n",
    "    markerfacecolor='pink', \n",
    "    markersize=12, \n",
    "    color='deeppink', \n",
    "    linewidth=4, \n",
    "    label='SVM Unigram and Bigram')\n",
    "\n",
    "plt.plot(\n",
    "    np.arange(len(svm_tfidf_cv_scores)), \n",
    "    svm_tfidf_cv_scores, \n",
    "    marker='o', \n",
    "    markerfacecolor='orange', \n",
    "    markersize=12, \n",
    "    color='bisque', \n",
    "    linewidth=4, \n",
    "    label='SVM Unigram TFIDF')\n",
    "\n",
    "plt.plot(\n",
    "    np.arange(len(base_line)), \n",
    "    base_line, \n",
    "    marker='o', \n",
    "    markerfacecolor='dimgrey', \n",
    "    markersize=12, \n",
    "    color='black', \n",
    "    linewidth=4, \n",
    "    label='Base Line')\n",
    "\n",
    "plt.xticks(np.arange(10), ('1', '2', '3', '4', '5', '6', '7', '8', '9', '10'))\n",
    "plt.legend()\n",
    "plt.xlabel('Test Iteration', size=20)\n",
    "plt.ylabel('Accuracy', size=20)\n",
    "plt.xticks(size=20)\n",
    "plt.yticks(size=20)\n",
    "plt.savefig(\"Evaluation Results via 10 Folds CV.png\", dpi=100)"
   ]
  },
  {
   "cell_type": "code",
   "execution_count": null,
   "metadata": {},
   "outputs": [],
   "source": []
  }
 ],
 "metadata": {
  "kernelspec": {
   "display_name": "Python 3",
   "language": "python",
   "name": "python3"
  },
  "language_info": {
   "codemirror_mode": {
    "name": "ipython",
    "version": 3
   },
   "file_extension": ".py",
   "mimetype": "text/x-python",
   "name": "python",
   "nbconvert_exporter": "python",
   "pygments_lexer": "ipython3",
   "version": "3.7.3"
  }
 },
 "nbformat": 4,
 "nbformat_minor": 2
}
